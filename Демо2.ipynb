{
 "cells": [
  {
   "cell_type": "markdown",
   "id": "1aed54d2",
   "metadata": {},
   "source": [
    "import xlrd\n",
    "\n",
    "# Open a workbook \n",
    "workbook = xlrd.open_workbook('2000_2021.xlsx')\n",
    "\n",
    "# Loads only current sheets to memory\n",
    "workbook = xlrd.open_workbook('2000_2021.xlsx', on_demand = True)"
   ]
  },
  {
   "cell_type": "markdown",
   "id": "b21d3545",
   "metadata": {},
   "source": [
    "XLRDError                                 Traceback (most recent call last)\n",
    "Input In [5], in <cell line: 4>()\n",
    "      1 import xlrd\n",
    "      3 # Open a workbook \n",
    "----> 4 workbook = xlrd.open_workbook('2000_2021.xlsx')\n",
    "      6 # Loads only current sheets to memory\n",
    "      7 workbook = xlrd.open_workbook('2000_2021.xlsx', on_demand = True)\n",
    "\n",
    "File ~\\anaconda3\\lib\\site-packages\\xlrd\\__init__.py:170, in open_workbook(filename, logfile, verbosity, use_mmap, file_contents, encoding_override, formatting_info, on_demand, ragged_rows, ignore_workbook_corruption)\n",
    "    167 # We have to let unknown file formats pass through here, as some ancient\n",
    "    168 # files that xlrd can parse don't start with the expected signature.\n",
    "    169 if file_format and file_format != 'xls':\n",
    "--> 170     raise XLRDError(FILE_FORMAT_DESCRIPTIONS[file_format]+'; not supported')\n",
    "    172 bk = open_workbook_xls(\n",
    "    173     filename=filename,\n",
    "    174     logfile=logfile,\n",
    "   (...)\n",
    "    182     ignore_workbook_corruption=ignore_workbook_corruption,\n",
    "    183 )\n",
    "    185 return bk\n",
    "\n",
    "XLRDError: Excel xlsx file; not supported\n"
   ]
  },
  {
   "cell_type": "code",
   "execution_count": null,
   "id": "a1ff6b5d",
   "metadata": {},
   "outputs": [],
   "source": []
  }
 ],
 "metadata": {
  "kernelspec": {
   "display_name": "Python 3 (ipykernel)",
   "language": "python",
   "name": "python3"
  },
  "language_info": {
   "codemirror_mode": {
    "name": "ipython",
    "version": 3
   },
   "file_extension": ".py",
   "mimetype": "text/x-python",
   "name": "python",
   "nbconvert_exporter": "python",
   "pygments_lexer": "ipython3",
   "version": "3.9.12"
  }
 },
 "nbformat": 4,
 "nbformat_minor": 5
}
